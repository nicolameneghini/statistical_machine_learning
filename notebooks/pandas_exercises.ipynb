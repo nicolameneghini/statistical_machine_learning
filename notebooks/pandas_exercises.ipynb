{
 "cells": [
  {
   "cell_type": "code",
   "execution_count": 2,
   "metadata": {},
   "outputs": [],
   "source": [
    "%matplotlib inline\n",
    "\n",
    "import os\n",
    "from matplotlib import pyplot as plt\n",
    "import seaborn as sns\n",
    "import pandas as pd\n",
    "import numpy as np"
   ]
  },
  {
   "cell_type": "markdown",
   "metadata": {},
   "source": [
    "# Exercises\n",
    "All the following exercises are provided with a potential solution to them. All of the proposed problems can be solved in more than one way, so take the solution provided as a reference that can be improved on.\n",
    "\n",
    "### IGN game reviews dataset\n",
    "\n",
    "\n",
    "1) Print the worst game genre\n",
    "\n",
    "2) How many masterpiece (score_phrase == \"Masterpiece\") game titles were released before April 2001?\n",
    "\n",
    "3) Print the Platform that the editors choose more often (filter out the platforms with less than 100 games released on them)\n",
    "\n",
    "4) Load the dataset and print the names of the unique `platform`s, sorted in descending order by the mean score the received over all games released for them. In case of ties in the mean score, sort by the total number of games released on the platform.\n",
    "\n",
    "5) Find the best awful adventure game (most highly scored with an \"Awful\" score phrase, Adventure genre game). Take into account all variants of Adventure games, i.e. \"Adventure, Platformer', 'Educational, Adventure', etc.\n",
    "\n",
    "6) Plot the mean score of all games released as a function of the year it was released in.\n",
    "\n",
    "7) Plot the probability of a game being an editor's choice as a function of score it was given (bin the score values to make the plot).\n",
    "\n",
    "8) As a follow up of the above exercise, plot the probability of a game being an editor's choice as a function of score but do so for the following platforms: 'PlayStation 4', 'Xbox One' and 'PC'\n",
    "\n",
    "### Open problems (no solution provided)\n",
    "\n",
    "Use the titanic dataset available with seaborn as `sns.load_dataset('titanic')`\n",
    "\n",
    "1) Plot the fraction of male_adults that survived as a function of their age. Divide the data into two groups, the males that were alone and those that weren't.\n",
    "\n",
    "2) Plot the age distributions of the pasengers divided into two groups, those that survived and those that didn't. Both plots must be within the same axes.\n",
    "\n",
    "3) Plot the correlations of age, fare paid, and survival.\n",
    "\n",
    "4) What embark_town had the highest survival rate? Was the survival rate correlated with the embark_town?\n",
    "\n",
    "5) Plot the distributions of fares paid according to class and age."
   ]
  },
  {
   "cell_type": "markdown",
   "metadata": {},
   "source": [
    "----\n",
    "\n",
    "# Solutions"
   ]
  },
  {
   "cell_type": "code",
   "execution_count": 5,
   "metadata": {},
   "outputs": [
    {
     "name": "stdout",
     "output_type": "stream",
     "text": [
      "Hunting, Action\n"
     ]
    }
   ],
   "source": [
    "# Ex 1\n",
    "print(reviews.\n",
    "      groupby('genre').\n",
    "      score.mean().\n",
    "      idxmin()\n",
    "     )"
   ]
  },
  {
   "cell_type": "code",
   "execution_count": 33,
   "metadata": {},
   "outputs": [
    {
     "name": "stdout",
     "output_type": "stream",
     "text": [
      "171\n"
     ]
    }
   ],
   "source": [
    "# Ex 2\n",
    "date_query = ('release_year < 2001 or '\n",
    "              '(release_year == 2001 and '\n",
    "              ' release_month < 4)')\n",
    "print(\n",
    "    len(\n",
    "        reviews.\n",
    "        query(\"score_phrase=='Masterpiece' and \" + date_query).\n",
    "        title.unique()  # Some titles get released over different platforms\n",
    "    )\n",
    ")"
   ]
  },
  {
   "cell_type": "code",
   "execution_count": 7,
   "metadata": {},
   "outputs": [
    {
     "name": "stdout",
     "output_type": "stream",
     "text": [
      "PlayStation 4\n"
     ]
    }
   ],
   "source": [
    "# Ex 3\n",
    "print(reviews.\n",
    "      groupby('platform').\n",
    "      filter(lambda x: len(x) >= 100).  # Here we keep the platforms with 100 games or more\n",
    "      groupby('platform').\n",
    "      score.mean().idxmax()\n",
    "     )"
   ]
  },
  {
   "cell_type": "code",
   "execution_count": 8,
   "metadata": {},
   "outputs": [
    {
     "name": "stdout",
     "output_type": "stream",
     "text": [
      "Index(['SteamOS', 'WonderSwan Color', 'Pocket PC', 'Macintosh',\n",
      "       'TurboGrafx-CD', 'Atari 5200', 'Ouya', 'Web Games', 'Game Boy',\n",
      "       'New Nintendo 3DS', 'Super NES', 'iPad', 'PlayStation 4', 'Xbox One',\n",
      "       'Linux', 'Android', 'Wii U', 'PlayStation Vita', 'Dreamcast',\n",
      "       'NeoGeo Pocket Color', 'Nintendo 3DS', 'iPhone', 'Saturn', 'Xbox',\n",
      "       'PlayStation 3', 'Wireless', 'PC', 'Lynx', 'Xbox 360', 'GameCube',\n",
      "       'Sega CD', 'Nintendo 64', 'iPod', 'PlayStation 2', 'Master System',\n",
      "       'Windows Phone', 'PlayStation Portable', 'N-Gage', 'Windows Surface',\n",
      "       'Nintendo 64DD', 'Game Boy Advance', 'NES', 'TurboGrafx-16',\n",
      "       'PlayStation', 'Genesis', 'NeoGeo', 'WonderSwan', 'Commodore 64/128',\n",
      "       'Nintendo DSi', 'Wii', 'Nintendo DS', 'Vectrex', 'Game Boy Color',\n",
      "       'Arcade', 'Atari 2600', 'Sega 32X', 'Game.Com', 'Dreamcast VMU',\n",
      "       'DVD / HD Video Game'],\n",
      "      dtype='object', name='platform')\n"
     ]
    }
   ],
   "source": [
    "# Ex 4\n",
    "print(\n",
    "    reviews.\n",
    "        groupby(['platform']).\n",
    "        score.agg(['mean', 'count']).\n",
    "        sort_values(by=['mean', 'count'],\n",
    "                    ascending=False).\n",
    "        index\n",
    ")"
   ]
  },
  {
   "cell_type": "code",
   "execution_count": 9,
   "metadata": {},
   "outputs": [
    {
     "name": "stdout",
     "output_type": "stream",
     "text": [
      "5857    Shrek 2\n",
      "Name: title, dtype: object\n"
     ]
    }
   ],
   "source": [
    "# Ex 5\n",
    "# We first get the indexes of all kinds of adventure genre games\n",
    "adventurous = (reviews.genre.\n",
    "                       str.lower().  # To be sure that we will match any case\n",
    "                       str.contains('adventure').  # If genre contains adventure\n",
    "                       fillna(False)  # Set false to games that don't have a genre\n",
    "               )\n",
    "print(reviews[adventurous].\n",
    "      query('score_phrase == \"Awful\"').\n",
    "      sort_values(by='score', ascending=False).\n",
    "      title.\n",
    "      head(1)\n",
    "     )"
   ]
  },
  {
   "cell_type": "code",
   "execution_count": 10,
   "metadata": {},
   "outputs": [
    {
     "data": {
      "text/plain": [
       "<matplotlib.axes._subplots.AxesSubplot at 0x117d4b048>"
      ]
     },
     "execution_count": 10,
     "metadata": {},
     "output_type": "execute_result"
    },
    {
     "data": {
      "image/png": "[encoded data removed]",
      "text/plain": [
       "<Figure size 432x288 with 1 Axes>"
      ]
     },
     "metadata": {
      "needs_background": "light"
     },
     "output_type": "display_data"
    }
   ],
   "source": [
    "# Ex 6\n",
    "reviews.groupby('release_year').score.mean().plot(marker='o')"
   ]
  },
  {
   "cell_type": "code",
   "execution_count": 11,
   "metadata": {},
   "outputs": [
    {
     "data": {
      "text/plain": [
       "<matplotlib.axes._subplots.AxesSubplot at 0x117ca8c88>"
      ]
     },
     "execution_count": 11,
     "metadata": {},
     "output_type": "execute_result"
    },
    {
     "data": {
      "image/png": "[encoded data removed]",
      "text/plain": [
       "<Figure size 432x288 with 1 Axes>"
      ]
     },
     "metadata": {
      "needs_background": "light"
     },
     "output_type": "display_data"
    }
   ],
   "source": [
    "# Ex 7\n",
    "aprox_scores = np.linspace(0, 10, 21)\n",
    "binned_score = aprox_scores[np.digitize(reviews.score,\n",
    "                                        aprox_scores) - 1]\n",
    "sub = reviews.assign(score=binned_score,\n",
    "                     editors_choice=reviews.editors_choice == 'Y')\n",
    "sub.groupby(['score']).editors_choice.mean().plot()"
   ]
  },
  {
   "cell_type": "code",
   "execution_count": 12,
   "metadata": {},
   "outputs": [
    {
     "data": {
      "text/plain": [
       "<matplotlib.legend.Legend at 0x117d1bb38>"
      ]
     },
     "execution_count": 12,
     "metadata": {},
     "output_type": "execute_result"
    },
    {
     "data": {
      "image/png": "[encoded data removed]",
      "text/plain": [
       "<Figure size 432x288 with 1 Axes>"
      ]
     },
     "metadata": {
      "needs_background": "light"
     },
     "output_type": "display_data"
    }
   ],
   "source": [
    "# Ex 8\n",
    "platforms = ['PlayStation 4', 'Xbox One', 'PC']\n",
    "aprox_scores = np.linspace(0, 10, 51)\n",
    "for platform in platforms:\n",
    "    df = reviews.query('platform == \"{}\"'.format(platform))\n",
    "    binned_score = aprox_scores[np.digitize(df.score,\n",
    "                                            aprox_scores) - 1]\n",
    "    sub = df.assign(score=binned_score,\n",
    "                    editors_choice=reviews.editors_choice == 'Y')\n",
    "    mean = sub.groupby(['score']).editors_choice.mean()\n",
    "    plt.plot(mean.index.get_values(), mean.values, '-o', label=platform)\n",
    "plt.legend()"
   ]
  },
  {
   "cell_type": "markdown",
   "metadata": {},
   "source": [
    "## Open problems"
   ]
  },
  {
   "cell_type": "code",
   "execution_count": 95,
   "metadata": {},
   "outputs": [
    {
     "data": {
      "text/html": [
       "<div>\n",
       "<style scoped>\n",
       "    .dataframe tbody tr th:only-of-type {\n",
       "        vertical-align: middle;\n",
       "    }\n",
       "\n",
       "    .dataframe tbody tr th {\n",
       "        vertical-align: top;\n",
       "    }\n",
       "\n",
       "    .dataframe thead th {\n",
       "        text-align: right;\n",
       "    }\n",
       "</style>\n",
       "<table border=\"1\" class=\"dataframe\">\n",
       "  <thead>\n",
       "    <tr style=\"text-align: right;\">\n",
       "      <th></th>\n",
       "      <th>survived</th>\n",
       "      <th>pclass</th>\n",
       "      <th>sex</th>\n",
       "      <th>age</th>\n",
       "      <th>sibsp</th>\n",
       "      <th>parch</th>\n",
       "      <th>fare</th>\n",
       "      <th>embarked</th>\n",
       "      <th>class</th>\n",
       "      <th>who</th>\n",
       "      <th>adult_male</th>\n",
       "      <th>deck</th>\n",
       "      <th>embark_town</th>\n",
       "      <th>alive</th>\n",
       "      <th>alone</th>\n",
       "    </tr>\n",
       "  </thead>\n",
       "  <tbody>\n",
       "    <tr>\n",
       "      <th>0</th>\n",
       "      <td>0</td>\n",
       "      <td>3</td>\n",
       "      <td>male</td>\n",
       "      <td>22.0</td>\n",
       "      <td>1</td>\n",
       "      <td>0</td>\n",
       "      <td>7.2500</td>\n",
       "      <td>S</td>\n",
       "      <td>Third</td>\n",
       "      <td>man</td>\n",
       "      <td>True</td>\n",
       "      <td>NaN</td>\n",
       "      <td>Southampton</td>\n",
       "      <td>no</td>\n",
       "      <td>False</td>\n",
       "    </tr>\n",
       "    <tr>\n",
       "      <th>1</th>\n",
       "      <td>1</td>\n",
       "      <td>1</td>\n",
       "      <td>female</td>\n",
       "      <td>38.0</td>\n",
       "      <td>1</td>\n",
       "      <td>0</td>\n",
       "      <td>71.2833</td>\n",
       "      <td>C</td>\n",
       "      <td>First</td>\n",
       "      <td>woman</td>\n",
       "      <td>False</td>\n",
       "      <td>C</td>\n",
       "      <td>Cherbourg</td>\n",
       "      <td>yes</td>\n",
       "      <td>False</td>\n",
       "    </tr>\n",
       "    <tr>\n",
       "      <th>2</th>\n",
       "      <td>1</td>\n",
       "      <td>3</td>\n",
       "      <td>female</td>\n",
       "      <td>26.0</td>\n",
       "      <td>0</td>\n",
       "      <td>0</td>\n",
       "      <td>7.9250</td>\n",
       "      <td>S</td>\n",
       "      <td>Third</td>\n",
       "      <td>woman</td>\n",
       "      <td>False</td>\n",
       "      <td>NaN</td>\n",
       "      <td>Southampton</td>\n",
       "      <td>yes</td>\n",
       "      <td>True</td>\n",
       "    </tr>\n",
       "    <tr>\n",
       "      <th>3</th>\n",
       "      <td>1</td>\n",
       "      <td>1</td>\n",
       "      <td>female</td>\n",
       "      <td>35.0</td>\n",
       "      <td>1</td>\n",
       "      <td>0</td>\n",
       "      <td>53.1000</td>\n",
       "      <td>S</td>\n",
       "      <td>First</td>\n",
       "      <td>woman</td>\n",
       "      <td>False</td>\n",
       "      <td>C</td>\n",
       "      <td>Southampton</td>\n",
       "      <td>yes</td>\n",
       "      <td>False</td>\n",
       "    </tr>\n",
       "    <tr>\n",
       "      <th>4</th>\n",
       "      <td>0</td>\n",
       "      <td>3</td>\n",
       "      <td>male</td>\n",
       "      <td>35.0</td>\n",
       "      <td>0</td>\n",
       "      <td>0</td>\n",
       "      <td>8.0500</td>\n",
       "      <td>S</td>\n",
       "      <td>Third</td>\n",
       "      <td>man</td>\n",
       "      <td>True</td>\n",
       "      <td>NaN</td>\n",
       "      <td>Southampton</td>\n",
       "      <td>no</td>\n",
       "      <td>True</td>\n",
       "    </tr>\n",
       "  </tbody>\n",
       "</table>\n",
       "</div>"
      ],
      "text/plain": [
       "   survived  pclass     sex   age  sibsp  parch     fare embarked  class  \\\n",
       "0         0       3    male  22.0      1      0   7.2500        S  Third   \n",
       "1         1       1  female  38.0      1      0  71.2833        C  First   \n",
       "2         1       3  female  26.0      0      0   7.9250        S  Third   \n",
       "3         1       1  female  35.0      1      0  53.1000        S  First   \n",
       "4         0       3    male  35.0      0      0   8.0500        S  Third   \n",
       "\n",
       "     who  adult_male deck  embark_town alive  alone  \n",
       "0    man        True  NaN  Southampton    no  False  \n",
       "1  woman       False    C    Cherbourg   yes  False  \n",
       "2  woman       False  NaN  Southampton   yes   True  \n",
       "3  woman       False    C  Southampton   yes  False  \n",
       "4    man        True  NaN  Southampton    no   True  "
      ]
     },
     "execution_count": 95,
     "metadata": {},
     "output_type": "execute_result"
    }
   ],
   "source": [
    "titanic = sns.load_dataset(\"titanic\")\n",
    "titanic.head()"
   ]
  },
  {
   "cell_type": "markdown",
   "metadata": {},
   "source": [
    "### Es 1\n",
    "\n",
    "Plot the fraction of male_adults that survived as a function of their age. Divide the data into two groups, the males that were alone and those that weren't."
   ]
  },
  {
   "cell_type": "code",
   "execution_count": 22,
   "metadata": {},
   "outputs": [
    {
     "data": {
      "text/plain": [
       "<matplotlib.axes._subplots.AxesSubplot at 0x1255f6c18>"
      ]
     },
     "execution_count": 22,
     "metadata": {},
     "output_type": "execute_result"
    },
    {
     "data": {
      "image/png": "[encoded data removed]",
      "text/plain": [
       "<Figure size 432x288 with 1 Axes>"
      ]
     },
     "metadata": {
      "needs_background": "light"
     },
     "output_type": "display_data"
    }
   ],
   "source": [
    "titanic = titanic[np.isfinite(titanic[\"age\"])]\n",
    "min_age = titanic.age.min()\n",
    "max_age = titanic.age.max()\n",
    "\n",
    "\n",
    "approx_age = np.linspace(min_age,max_age, 20)\n",
    "binned_age = approx_age[np.digitize(titanic.age,approx_age)-1]\n",
    "sub1 = titanic.assign(age = binned_age, adult_male = titanic.adult_male == True, alive = titanic.alive== \"yes\",\\\n",
    "                      alone=titanic.alone == True)\n",
    "sub1.groupby(\"age\").adult_male.mean().plot(marker = \"o\")"
   ]
  },
  {
   "cell_type": "markdown",
   "metadata": {},
   "source": [
    "### Es 2\n",
    "Plot the age distributions of the pasengers divided into two groups, those that survived and those that didn't. Both plots must be within the same axes."
   ]
  },
  {
   "cell_type": "code",
   "execution_count": 83,
   "metadata": {},
   "outputs": [
    {
     "data": {
      "image/png": "[encoded data removed]",
      "text/plain": [
       "<Figure size 432x288 with 1 Axes>"
      ]
     },
     "metadata": {
      "needs_background": "light"
     },
     "output_type": "display_data"
    }
   ],
   "source": [
    "titanic = sns.load_dataset(\"titanic\")\n",
    "approx_age = np.linspace(min_age,max_age, 25)\n",
    "binned_age = approx_age[np.digitize(titanic.age,approx_age)-1]\n",
    "\n",
    "sub_yes = titanic.assign(age = binned_age, alive = titanic.alive == \"yes\")\n",
    "sub_yes.groupby(\"age\").alive.mean().plot(marker =\"o\", color = \"b\")\n",
    "\n",
    "sub_no = titanic.assign(age = binned_age, not_alive = titanic.alive == \"no\")\n",
    "sub_no.groupby(\"age\").not_alive.mean().plot(marker = \"o\", color = \"r\")\n",
    "\n",
    "#plt.plot(mean_yes.index.get_values(), mean_yes.values, \"-o\", label = \"yes\")\n",
    "#plt.plot(mean_no.index.get_values(), mean_no.values, \"-o\", label = \"no\")\n",
    "plt.legend()\n",
    "plt.show()"
   ]
  },
  {
   "cell_type": "markdown",
   "metadata": {},
   "source": [
    "### Es 3\n",
    "Plot the correlations of age, fare paid, and survival."
   ]
  },
  {
   "cell_type": "code",
   "execution_count": 84,
   "metadata": {},
   "outputs": [
    {
     "data": {
      "image/png": "[encoded data removed]",
      "text/plain": [
       "<Figure size 288x288 with 1 Axes>"
      ]
     },
     "metadata": {
      "needs_background": "light"
     },
     "output_type": "display_data"
    }
   ],
   "source": [
    "titanic = sns.load_dataset(\"titanic\")\n",
    "\n",
    "sub = titanic.assign(age = titanic.age, fare = titanic.fare, alive = titanic.alive)\n",
    "plt.matshow(sub.corr())\n",
    "plt.show()"
   ]
  },
  {
   "cell_type": "markdown",
   "metadata": {},
   "source": [
    "### Es 4\n",
    "What embark_town had the highest survival rate? Was the survival rate correlated with the embark_town?"
   ]
  },
  {
   "cell_type": "code",
   "execution_count": 85,
   "metadata": {},
   "outputs": [
    {
     "data": {
      "text/html": [
       "<div>\n",
       "<style scoped>\n",
       "    .dataframe tbody tr th:only-of-type {\n",
       "        vertical-align: middle;\n",
       "    }\n",
       "\n",
       "    .dataframe tbody tr th {\n",
       "        vertical-align: top;\n",
       "    }\n",
       "\n",
       "    .dataframe thead th {\n",
       "        text-align: right;\n",
       "    }\n",
       "</style>\n",
       "<table border=\"1\" class=\"dataframe\">\n",
       "  <thead>\n",
       "    <tr style=\"text-align: right;\">\n",
       "      <th></th>\n",
       "      <th>embark_town</th>\n",
       "      <th>alive</th>\n",
       "      <th>not_alive</th>\n",
       "      <th>rate</th>\n",
       "    </tr>\n",
       "  </thead>\n",
       "  <tbody>\n",
       "    <tr>\n",
       "      <th>0</th>\n",
       "      <td>Cherbourg</td>\n",
       "      <td>93</td>\n",
       "      <td>75</td>\n",
       "      <td>1.240000</td>\n",
       "    </tr>\n",
       "    <tr>\n",
       "      <th>1</th>\n",
       "      <td>Queenstown</td>\n",
       "      <td>30</td>\n",
       "      <td>47</td>\n",
       "      <td>0.638298</td>\n",
       "    </tr>\n",
       "    <tr>\n",
       "      <th>2</th>\n",
       "      <td>Southampton</td>\n",
       "      <td>217</td>\n",
       "      <td>427</td>\n",
       "      <td>0.508197</td>\n",
       "    </tr>\n",
       "  </tbody>\n",
       "</table>\n",
       "</div>"
      ],
      "text/plain": [
       "   embark_town  alive  not_alive      rate\n",
       "0    Cherbourg     93         75  1.240000\n",
       "1   Queenstown     30         47  0.638298\n",
       "2  Southampton    217        427  0.508197"
      ]
     },
     "execution_count": 85,
     "metadata": {},
     "output_type": "execute_result"
    }
   ],
   "source": [
    "df = pd.DataFrame(\n",
    "    {\"alive\":titanic.query('alive == \"yes\"').groupby(\"embark_town\").size(),\\\n",
    "     \"not_alive\":titanic.query('alive == \"no\"').groupby(\"embark_town\").size()}\n",
    "    ).reset_index()\n",
    "df[\"rate\"] = df[\"alive\"]/df[\"not_alive\"]\n",
    "df"
   ]
  },
  {
   "cell_type": "code",
   "execution_count": 86,
   "metadata": {},
   "outputs": [
    {
     "data": {
      "image/png": "[encoded data removed]",
      "text/plain": [
       "<Figure size 288x288 with 1 Axes>"
      ]
     },
     "metadata": {
      "needs_background": "light"
     },
     "output_type": "display_data"
    }
   ],
   "source": [
    "sub = df.assign(embark_town = df.embark_town, rate = df.rate)\n",
    "plt.matshow(sub.corr())\n",
    "plt.show() "
   ]
  },
  {
   "cell_type": "markdown",
   "metadata": {},
   "source": [
    "### Es 5\n",
    "Plot the distributions of fares paid according to class and age."
   ]
  },
  {
   "cell_type": "code",
   "execution_count": 125,
   "metadata": {},
   "outputs": [
    {
     "ename": "SyntaxError",
     "evalue": "Python keyword not valid identifier in numexpr query (<unknown>, line 1)",
     "output_type": "error",
     "traceback": [
      "Traceback \u001b[0;36m(most recent call last)\u001b[0m:\n",
      "  File \u001b[1;32m\"/usr/local/lib/python3.7/site-packages/IPython/core/interactiveshell.py\"\u001b[0m, line \u001b[1;32m3267\u001b[0m, in \u001b[1;35mrun_code\u001b[0m\n    exec(code_obj, self.user_global_ns, self.user_ns)\n",
      "  File \u001b[1;32m\"<ipython-input-125-db68e122aa47>\"\u001b[0m, line \u001b[1;32m8\u001b[0m, in \u001b[1;35m<module>\u001b[0m\n    sub1.query(\"class=='First'\").groupby(\"age\").fare.mean().plot(marker = \"o\")\n",
      "  File \u001b[1;32m\"/usr/local/lib/python3.7/site-packages/pandas/core/frame.py\"\u001b[0m, line \u001b[1;32m3088\u001b[0m, in \u001b[1;35mquery\u001b[0m\n    res = self.eval(expr, **kwargs)\n",
      "  File \u001b[1;32m\"/usr/local/lib/python3.7/site-packages/pandas/core/frame.py\"\u001b[0m, line \u001b[1;32m3203\u001b[0m, in \u001b[1;35meval\u001b[0m\n    return _eval(expr, inplace=inplace, **kwargs)\n",
      "  File \u001b[1;32m\"/usr/local/lib/python3.7/site-packages/pandas/core/computation/eval.py\"\u001b[0m, line \u001b[1;32m294\u001b[0m, in \u001b[1;35meval\u001b[0m\n    truediv=truediv)\n",
      "  File \u001b[1;32m\"/usr/local/lib/python3.7/site-packages/pandas/core/computation/expr.py\"\u001b[0m, line \u001b[1;32m749\u001b[0m, in \u001b[1;35m__init__\u001b[0m\n    self.terms = self.parse()\n",
      "  File \u001b[1;32m\"/usr/local/lib/python3.7/site-packages/pandas/core/computation/expr.py\"\u001b[0m, line \u001b[1;32m766\u001b[0m, in \u001b[1;35mparse\u001b[0m\n    return self._visitor.visit(self.expr)\n",
      "  File \u001b[1;32m\"/usr/local/lib/python3.7/site-packages/pandas/core/computation/expr.py\"\u001b[0m, line \u001b[1;32m327\u001b[0m, in \u001b[1;35mvisit\u001b[0m\n    raise e\n",
      "  File \u001b[1;32m\"/usr/local/lib/python3.7/site-packages/pandas/core/computation/expr.py\"\u001b[0m, line \u001b[1;32m321\u001b[0m, in \u001b[1;35mvisit\u001b[0m\n    node = ast.fix_missing_locations(ast.parse(clean))\n",
      "\u001b[0;36m  File \u001b[0;32m\"/usr/local/Cellar/python/3.7.1/Frameworks/Python.framework/Versions/3.7/lib/python3.7/ast.py\"\u001b[0;36m, line \u001b[0;32m35\u001b[0;36m, in \u001b[0;35mparse\u001b[0;36m\u001b[0m\n\u001b[0;31m    return compile(source, filename, mode, PyCF_ONLY_AST)\u001b[0m\n",
      "\u001b[0;36m  File \u001b[0;32m\"<unknown>\"\u001b[0;36m, line \u001b[0;32m1\u001b[0m\n\u001b[0;31m    class =='First'\u001b[0m\n\u001b[0m           ^\u001b[0m\n\u001b[0;31mSyntaxError\u001b[0m\u001b[0;31m:\u001b[0m Python keyword not valid identifier in numexpr query\n"
     ]
    }
   ],
   "source": [
    "min_age = titanic.age.min()\n",
    "max_age = titanic.age.max()\n",
    "\n",
    "\n",
    "approx_age = np.linspace(min_age,max_age, 20)\n",
    "\n",
    "\n",
    "sub1.query(\"class=='First'\").groupby(\"age\").fare.mean().plot(marker = \"o\")\n",
    "\n",
    "classes = [\"First\", \"Second\", \"Third\"]\n",
    "\n",
    "for clas in classes:\n",
    "    df = reviews.query('XX == \"{}\"'.format(clas))\n",
    "    binned_age = approx_age[np.digitize(titanic.age,approx_age)-1]\n",
    "    sub1 = titanic.assign(age = binned_age, fare = titanic.fare)\n",
    "    mean = sub.groupby(['age']).fare.mean()\n",
    "    plt.plot(mean.index.get_values(), mean.values, '-o', label=clas)\n",
    "plt.legend()"
   ]
  },
  {
   "cell_type": "code",
   "execution_count": 102,
   "metadata": {},
   "outputs": [
    {
     "ename": "SyntaxError",
     "evalue": "invalid syntax (<ipython-input-102-9d57e8825e19>, line 1)",
     "output_type": "error",
     "traceback": [
      "\u001b[0;36m  File \u001b[0;32m\"<ipython-input-102-9d57e8825e19>\"\u001b[0;36m, line \u001b[0;32m1\u001b[0m\n\u001b[0;31m    titanic.class.isidentifier()\u001b[0m\n\u001b[0m                ^\u001b[0m\n\u001b[0;31mSyntaxError\u001b[0m\u001b[0;31m:\u001b[0m invalid syntax\n"
     ]
    }
   ],
   "source": [
    "type(titanic.class())"
   ]
  },
  {
   "cell_type": "code",
   "execution_count": 137,
   "metadata": {},
   "outputs": [
    {
     "ename": "AttributeError",
     "evalue": "'DataFrame' object has no attribute 'X'",
     "output_type": "error",
     "traceback": [
      "\u001b[0;31m---------------------------------------------------------------------------\u001b[0m",
      "\u001b[0;31mAttributeError\u001b[0m                            Traceback (most recent call last)",
      "\u001b[0;32m<ipython-input-137-2a0a94ed3d79>\u001b[0m in \u001b[0;36m<module>\u001b[0;34m\u001b[0m\n\u001b[1;32m      1\u001b[0m \u001b[0mtitanic\u001b[0m\u001b[0;34m.\u001b[0m\u001b[0mrename\u001b[0m\u001b[0;34m(\u001b[0m\u001b[0mcolumns\u001b[0m \u001b[0;34m=\u001b[0m \u001b[0;34m{\u001b[0m\u001b[0;34m\"XX\"\u001b[0m \u001b[0;34m:\u001b[0m \u001b[0;34m\"X\"\u001b[0m\u001b[0;34m}\u001b[0m\u001b[0;34m)\u001b[0m\u001b[0;34m\u001b[0m\u001b[0;34m\u001b[0m\u001b[0m\n\u001b[0;32m----> 2\u001b[0;31m \u001b[0mtitanic\u001b[0m\u001b[0;34m.\u001b[0m\u001b[0mX\u001b[0m\u001b[0;34m\u001b[0m\u001b[0;34m\u001b[0m\u001b[0m\n\u001b[0m",
      "\u001b[0;32m/usr/local/lib/python3.7/site-packages/pandas/core/generic.py\u001b[0m in \u001b[0;36m__getattr__\u001b[0;34m(self, name)\u001b[0m\n\u001b[1;32m   5065\u001b[0m             \u001b[0;32mif\u001b[0m \u001b[0mself\u001b[0m\u001b[0;34m.\u001b[0m\u001b[0m_info_axis\u001b[0m\u001b[0;34m.\u001b[0m\u001b[0m_can_hold_identifiers_and_holds_name\u001b[0m\u001b[0;34m(\u001b[0m\u001b[0mname\u001b[0m\u001b[0;34m)\u001b[0m\u001b[0;34m:\u001b[0m\u001b[0;34m\u001b[0m\u001b[0;34m\u001b[0m\u001b[0m\n\u001b[1;32m   5066\u001b[0m                 \u001b[0;32mreturn\u001b[0m \u001b[0mself\u001b[0m\u001b[0;34m[\u001b[0m\u001b[0mname\u001b[0m\u001b[0;34m]\u001b[0m\u001b[0;34m\u001b[0m\u001b[0;34m\u001b[0m\u001b[0m\n\u001b[0;32m-> 5067\u001b[0;31m             \u001b[0;32mreturn\u001b[0m \u001b[0mobject\u001b[0m\u001b[0;34m.\u001b[0m\u001b[0m__getattribute__\u001b[0m\u001b[0;34m(\u001b[0m\u001b[0mself\u001b[0m\u001b[0;34m,\u001b[0m \u001b[0mname\u001b[0m\u001b[0;34m)\u001b[0m\u001b[0;34m\u001b[0m\u001b[0;34m\u001b[0m\u001b[0m\n\u001b[0m\u001b[1;32m   5068\u001b[0m \u001b[0;34m\u001b[0m\u001b[0m\n\u001b[1;32m   5069\u001b[0m     \u001b[0;32mdef\u001b[0m \u001b[0m__setattr__\u001b[0m\u001b[0;34m(\u001b[0m\u001b[0mself\u001b[0m\u001b[0;34m,\u001b[0m \u001b[0mname\u001b[0m\u001b[0;34m,\u001b[0m \u001b[0mvalue\u001b[0m\u001b[0;34m)\u001b[0m\u001b[0;34m:\u001b[0m\u001b[0;34m\u001b[0m\u001b[0;34m\u001b[0m\u001b[0m\n",
      "\u001b[0;31mAttributeError\u001b[0m: 'DataFrame' object has no attribute 'X'"
     ]
    }
   ],
   "source": [
    "titanic.rename(columns = {\"XX\" : \"X\"})\n",
    "titanic.X"
   ]
  },
  {
   "cell_type": "code",
   "execution_count": null,
   "metadata": {},
   "outputs": [],
   "source": []
  }
 ],
 "metadata": {
  "kernelspec": {
   "display_name": "Python 3",
   "language": "python",
   "name": "python3"
  },
  "language_info": {
   "codemirror_mode": {
    "name": "ipython",
    "version": 3
   },
   "file_extension": ".py",
   "mimetype": "text/x-python",
   "name": "python",
   "nbconvert_exporter": "python",
   "pygments_lexer": "ipython3",
   "version": "3.7.1"
  }
 },
 "nbformat": 4,
 "nbformat_minor": 2
}
